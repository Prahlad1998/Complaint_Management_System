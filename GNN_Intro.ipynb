{
  "nbformat": 4,
  "nbformat_minor": 0,
  "metadata": {
    "colab": {
      "provenance": [],
      "authorship_tag": "ABX9TyMF74TSuO1pQeYrz+5al0On",
      "include_colab_link": true
    },
    "kernelspec": {
      "name": "python3",
      "display_name": "Python 3"
    },
    "language_info": {
      "name": "python"
    }
  },
  "cells": [
    {
      "cell_type": "markdown",
      "metadata": {
        "id": "view-in-github",
        "colab_type": "text"
      },
      "source": [
        "<a href=\"https://colab.research.google.com/github/Prahlad1998/Complaint_Management_System/blob/main/GNN_Intro.ipynb\" target=\"_parent\"><img src=\"https://colab.research.google.com/assets/colab-badge.svg\" alt=\"Open In Colab\"/></a>"
      ]
    },
    {
      "cell_type": "code",
      "execution_count": 17,
      "metadata": {
        "colab": {
          "base_uri": "https://localhost:8080/"
        },
        "id": "fHZ1bkvl9Zq9",
        "outputId": "939cec7d-c4d4-43b6-85d9-60b711cdaf85"
      },
      "outputs": [
        {
          "output_type": "stream",
          "name": "stdout",
          "text": [
            "12.4\n"
          ]
        }
      ],
      "source": [
        "###Setup for Pytorch Geometric (PyG)\n",
        "!python -c \"import torch;print(torch.version.cuda)\""
      ]
    },
    {
      "cell_type": "code",
      "source": [
        "#PyTorch Version\n",
        "!python -c \"import torch; print(torch.__version__)\""
      ],
      "metadata": {
        "colab": {
          "base_uri": "https://localhost:8080/"
        },
        "id": "N7hRwP1pCGaN",
        "outputId": "20af08b7-b8e2-43a0-ad9c-fea4a686226e"
      },
      "execution_count": 18,
      "outputs": [
        {
          "output_type": "stream",
          "name": "stdout",
          "text": [
            "2.5.1+cu124\n"
          ]
        }
      ]
    },
    {
      "cell_type": "code",
      "source": [
        "#install torch geometric\n",
        "!pip install torch-geometric\n",
        "!pip install torch-sparse -f https://data.pyg.org/wh1/torch-2.5.1+cu124.html\n",
        "!pip install torch-scatter -f https://data.pyg.org/wh1/torch-2.5.1+cu124.html"
      ],
      "metadata": {
        "colab": {
          "base_uri": "https://localhost:8080/"
        },
        "id": "9hsGH0fmCIeV",
        "outputId": "eac6c671-bf12-4923-c248-48c9a423b720"
      },
      "execution_count": 19,
      "outputs": [
        {
          "output_type": "stream",
          "name": "stdout",
          "text": [
            "Requirement already satisfied: torch-geometric in /usr/local/lib/python3.11/dist-packages (2.6.1)\n",
            "Requirement already satisfied: aiohttp in /usr/local/lib/python3.11/dist-packages (from torch-geometric) (3.11.13)\n",
            "Requirement already satisfied: fsspec in /usr/local/lib/python3.11/dist-packages (from torch-geometric) (2024.10.0)\n",
            "Requirement already satisfied: jinja2 in /usr/local/lib/python3.11/dist-packages (from torch-geometric) (3.1.5)\n",
            "Requirement already satisfied: numpy in /usr/local/lib/python3.11/dist-packages (from torch-geometric) (1.26.4)\n",
            "Requirement already satisfied: psutil>=5.8.0 in /usr/local/lib/python3.11/dist-packages (from torch-geometric) (5.9.5)\n",
            "Requirement already satisfied: pyparsing in /usr/local/lib/python3.11/dist-packages (from torch-geometric) (3.2.1)\n",
            "Requirement already satisfied: requests in /usr/local/lib/python3.11/dist-packages (from torch-geometric) (2.32.3)\n",
            "Requirement already satisfied: tqdm in /usr/local/lib/python3.11/dist-packages (from torch-geometric) (4.67.1)\n",
            "Requirement already satisfied: aiohappyeyeballs>=2.3.0 in /usr/local/lib/python3.11/dist-packages (from aiohttp->torch-geometric) (2.4.6)\n",
            "Requirement already satisfied: aiosignal>=1.1.2 in /usr/local/lib/python3.11/dist-packages (from aiohttp->torch-geometric) (1.3.2)\n",
            "Requirement already satisfied: attrs>=17.3.0 in /usr/local/lib/python3.11/dist-packages (from aiohttp->torch-geometric) (25.1.0)\n",
            "Requirement already satisfied: frozenlist>=1.1.1 in /usr/local/lib/python3.11/dist-packages (from aiohttp->torch-geometric) (1.5.0)\n",
            "Requirement already satisfied: multidict<7.0,>=4.5 in /usr/local/lib/python3.11/dist-packages (from aiohttp->torch-geometric) (6.1.0)\n",
            "Requirement already satisfied: propcache>=0.2.0 in /usr/local/lib/python3.11/dist-packages (from aiohttp->torch-geometric) (0.3.0)\n",
            "Requirement already satisfied: yarl<2.0,>=1.17.0 in /usr/local/lib/python3.11/dist-packages (from aiohttp->torch-geometric) (1.18.3)\n",
            "Requirement already satisfied: MarkupSafe>=2.0 in /usr/local/lib/python3.11/dist-packages (from jinja2->torch-geometric) (3.0.2)\n",
            "Requirement already satisfied: charset-normalizer<4,>=2 in /usr/local/lib/python3.11/dist-packages (from requests->torch-geometric) (3.4.1)\n",
            "Requirement already satisfied: idna<4,>=2.5 in /usr/local/lib/python3.11/dist-packages (from requests->torch-geometric) (3.10)\n",
            "Requirement already satisfied: urllib3<3,>=1.21.1 in /usr/local/lib/python3.11/dist-packages (from requests->torch-geometric) (2.3.0)\n",
            "Requirement already satisfied: certifi>=2017.4.17 in /usr/local/lib/python3.11/dist-packages (from requests->torch-geometric) (2025.1.31)\n",
            "Looking in links: https://data.pyg.org/wh1/torch-2.5.1+cu124.html\n",
            "Requirement already satisfied: torch-sparse in /usr/local/lib/python3.11/dist-packages (0.6.18)\n",
            "Requirement already satisfied: scipy in /usr/local/lib/python3.11/dist-packages (from torch-sparse) (1.13.1)\n",
            "Requirement already satisfied: numpy<2.3,>=1.22.4 in /usr/local/lib/python3.11/dist-packages (from scipy->torch-sparse) (1.26.4)\n",
            "Looking in links: https://data.pyg.org/wh1/torch-2.5.1+cu124.html\n",
            "Requirement already satisfied: torch-scatter in /usr/local/lib/python3.11/dist-packages (2.1.2)\n"
          ]
        }
      ]
    },
    {
      "cell_type": "code",
      "source": [
        " import torch\n",
        " print(torch.__version__)"
      ],
      "metadata": {
        "colab": {
          "base_uri": "https://localhost:8080/"
        },
        "id": "POn64YGrCQsf",
        "outputId": "6fae1281-a9ee-428b-b9df-4bd74497d268"
      },
      "execution_count": 20,
      "outputs": [
        {
          "output_type": "stream",
          "name": "stdout",
          "text": [
            "2.5.1+cu124\n"
          ]
        }
      ]
    },
    {
      "cell_type": "code",
      "source": [
        "from torch_geometric.data import Data"
      ],
      "metadata": {
        "id": "jQoCTpGVCavY"
      },
      "execution_count": 21,
      "outputs": []
    },
    {
      "cell_type": "code",
      "source": [
        "#in order to  build tyhe data we have to define what is x and edge index .\n",
        "#x simply indicate node feature matrix\n",
        "edge_index= torch.tensor([[0,1,1,2],\n",
        "                          [1,0,2,1]], dtype=torch.long)\n",
        "x= torch.tensor([[-1],[0],[1]],dtype=torch.float)"
      ],
      "metadata": {
        "id": "F3vzIhubJ4iC"
      },
      "execution_count": 22,
      "outputs": []
    },
    {
      "cell_type": "code",
      "source": [
        "edge_index"
      ],
      "metadata": {
        "colab": {
          "base_uri": "https://localhost:8080/"
        },
        "id": "RRrj82J5LBU9",
        "outputId": "7db94cb9-4b76-4789-a94b-995cf46c1866"
      },
      "execution_count": 23,
      "outputs": [
        {
          "output_type": "execute_result",
          "data": {
            "text/plain": [
              "tensor([[0, 1, 1, 2],\n",
              "        [1, 0, 2, 1]])"
            ]
          },
          "metadata": {},
          "execution_count": 23
        }
      ]
    },
    {
      "cell_type": "code",
      "source": [
        "x"
      ],
      "metadata": {
        "colab": {
          "base_uri": "https://localhost:8080/"
        },
        "id": "KJv4_HnULDcz",
        "outputId": "dad78503-2f08-47e9-d52e-859ce1082dcc"
      },
      "execution_count": 24,
      "outputs": [
        {
          "output_type": "execute_result",
          "data": {
            "text/plain": [
              "tensor([[-1.],\n",
              "        [ 0.],\n",
              "        [ 1.]])"
            ]
          },
          "metadata": {},
          "execution_count": 24
        }
      ]
    },
    {
      "cell_type": "code",
      "source": [
        "#combining the edge index and x we are definig the data\n",
        "data=Data(x=x,edge_index=edge_index)"
      ],
      "metadata": {
        "id": "oe13_u96LFQL"
      },
      "execution_count": 25,
      "outputs": []
    },
    {
      "cell_type": "code",
      "source": [
        "data"
      ],
      "metadata": {
        "colab": {
          "base_uri": "https://localhost:8080/"
        },
        "id": "oVZVlt7SMsJ5",
        "outputId": "abc09b97-1c88-4b63-8dd3-38544b47cfd0"
      },
      "execution_count": 26,
      "outputs": [
        {
          "output_type": "execute_result",
          "data": {
            "text/plain": [
              "Data(x=[3, 1], edge_index=[2, 4])"
            ]
          },
          "metadata": {},
          "execution_count": 26
        }
      ]
    },
    {
      "cell_type": "code",
      "source": [
        "from torch_geometric.utils import to_networkx"
      ],
      "metadata": {
        "id": "kDIdc07hMtQg"
      },
      "execution_count": 27,
      "outputs": []
    },
    {
      "cell_type": "code",
      "source": [
        "G=to_networkx(data)"
      ],
      "metadata": {
        "id": "lTp0g3UiM8j5"
      },
      "execution_count": 28,
      "outputs": []
    },
    {
      "cell_type": "code",
      "source": [
        "import networkx as nx"
      ],
      "metadata": {
        "id": "OkD8AS97M_R6"
      },
      "execution_count": 29,
      "outputs": []
    },
    {
      "cell_type": "code",
      "source": [
        "type(G)"
      ],
      "metadata": {
        "colab": {
          "base_uri": "https://localhost:8080/",
          "height": 186
        },
        "id": "-7-DPwQbNLWN",
        "outputId": "20bb1c57-cff8-4b1b-a532-2955c3c44175"
      },
      "execution_count": 30,
      "outputs": [
        {
          "output_type": "execute_result",
          "data": {
            "text/plain": [
              "networkx.classes.digraph.DiGraph"
            ],
            "text/html": [
              "<div style=\"max-width:800px; border: 1px solid var(--colab-border-color);\"><style>\n",
              "      pre.function-repr-contents {\n",
              "        overflow-x: auto;\n",
              "        padding: 8px 12px;\n",
              "        max-height: 500px;\n",
              "      }\n",
              "\n",
              "      pre.function-repr-contents.function-repr-contents-collapsed {\n",
              "        cursor: pointer;\n",
              "        max-height: 100px;\n",
              "      }\n",
              "    </style>\n",
              "    <pre style=\"white-space: initial; background:\n",
              "         var(--colab-secondary-surface-color); padding: 8px 12px;\n",
              "         border-bottom: 1px solid var(--colab-border-color);\"><b>networkx.classes.digraph.DiGraph</b><br/>def __init__(incoming_graph_data=None, **attr)</pre><pre class=\"function-repr-contents function-repr-contents-collapsed\" style=\"\"><a class=\"filepath\" style=\"display:none\" href=\"#\">/usr/local/lib/python3.11/dist-packages/networkx/classes/digraph.py</a>Base class for directed graphs.\n",
              "\n",
              "A DiGraph stores nodes and edges with optional data, or attributes.\n",
              "\n",
              "DiGraphs hold directed edges.  Self loops are allowed but multiple\n",
              "(parallel) edges are not.\n",
              "\n",
              "Nodes can be arbitrary (hashable) Python objects with optional\n",
              "key/value attributes. By convention `None` is not used as a node.\n",
              "\n",
              "Edges are represented as links between nodes with optional\n",
              "key/value attributes.\n",
              "\n",
              "Parameters\n",
              "----------\n",
              "incoming_graph_data : input graph (optional, default: None)\n",
              "    Data to initialize graph. If None (default) an empty\n",
              "    graph is created.  The data can be any format that is supported\n",
              "    by the to_networkx_graph() function, currently including edge list,\n",
              "    dict of dicts, dict of lists, NetworkX graph, 2D NumPy array, SciPy\n",
              "    sparse matrix, or PyGraphviz graph.\n",
              "\n",
              "attr : keyword arguments, optional (default= no attributes)\n",
              "    Attributes to add to graph as key=value pairs.\n",
              "\n",
              "See Also\n",
              "--------\n",
              "Graph\n",
              "MultiGraph\n",
              "MultiDiGraph\n",
              "\n",
              "Examples\n",
              "--------\n",
              "Create an empty graph structure (a &quot;null graph&quot;) with no nodes and\n",
              "no edges.\n",
              "\n",
              "&gt;&gt;&gt; G = nx.DiGraph()\n",
              "\n",
              "G can be grown in several ways.\n",
              "\n",
              "**Nodes:**\n",
              "\n",
              "Add one node at a time:\n",
              "\n",
              "&gt;&gt;&gt; G.add_node(1)\n",
              "\n",
              "Add the nodes from any container (a list, dict, set or\n",
              "even the lines from a file or the nodes from another graph).\n",
              "\n",
              "&gt;&gt;&gt; G.add_nodes_from([2, 3])\n",
              "&gt;&gt;&gt; G.add_nodes_from(range(100, 110))\n",
              "&gt;&gt;&gt; H = nx.path_graph(10)\n",
              "&gt;&gt;&gt; G.add_nodes_from(H)\n",
              "\n",
              "In addition to strings and integers any hashable Python object\n",
              "(except None) can represent a node, e.g. a customized node object,\n",
              "or even another Graph.\n",
              "\n",
              "&gt;&gt;&gt; G.add_node(H)\n",
              "\n",
              "**Edges:**\n",
              "\n",
              "G can also be grown by adding edges.\n",
              "\n",
              "Add one edge,\n",
              "\n",
              "&gt;&gt;&gt; G.add_edge(1, 2)\n",
              "\n",
              "a list of edges,\n",
              "\n",
              "&gt;&gt;&gt; G.add_edges_from([(1, 2), (1, 3)])\n",
              "\n",
              "or a collection of edges,\n",
              "\n",
              "&gt;&gt;&gt; G.add_edges_from(H.edges)\n",
              "\n",
              "If some edges connect nodes not yet in the graph, the nodes\n",
              "are added automatically.  There are no errors when adding\n",
              "nodes or edges that already exist.\n",
              "\n",
              "**Attributes:**\n",
              "\n",
              "Each graph, node, and edge can hold key/value attribute pairs\n",
              "in an associated attribute dictionary (the keys must be hashable).\n",
              "By default these are empty, but can be added or changed using\n",
              "add_edge, add_node or direct manipulation of the attribute\n",
              "dictionaries named graph, node and edge respectively.\n",
              "\n",
              "&gt;&gt;&gt; G = nx.DiGraph(day=&quot;Friday&quot;)\n",
              "&gt;&gt;&gt; G.graph\n",
              "{&#x27;day&#x27;: &#x27;Friday&#x27;}\n",
              "\n",
              "Add node attributes using add_node(), add_nodes_from() or G.nodes\n",
              "\n",
              "&gt;&gt;&gt; G.add_node(1, time=&quot;5pm&quot;)\n",
              "&gt;&gt;&gt; G.add_nodes_from([3], time=&quot;2pm&quot;)\n",
              "&gt;&gt;&gt; G.nodes[1]\n",
              "{&#x27;time&#x27;: &#x27;5pm&#x27;}\n",
              "&gt;&gt;&gt; G.nodes[1][&quot;room&quot;] = 714\n",
              "&gt;&gt;&gt; del G.nodes[1][&quot;room&quot;]  # remove attribute\n",
              "&gt;&gt;&gt; list(G.nodes(data=True))\n",
              "[(1, {&#x27;time&#x27;: &#x27;5pm&#x27;}), (3, {&#x27;time&#x27;: &#x27;2pm&#x27;})]\n",
              "\n",
              "Add edge attributes using add_edge(), add_edges_from(), subscript\n",
              "notation, or G.edges.\n",
              "\n",
              "&gt;&gt;&gt; G.add_edge(1, 2, weight=4.7)\n",
              "&gt;&gt;&gt; G.add_edges_from([(3, 4), (4, 5)], color=&quot;red&quot;)\n",
              "&gt;&gt;&gt; G.add_edges_from([(1, 2, {&quot;color&quot;: &quot;blue&quot;}), (2, 3, {&quot;weight&quot;: 8})])\n",
              "&gt;&gt;&gt; G[1][2][&quot;weight&quot;] = 4.7\n",
              "&gt;&gt;&gt; G.edges[1, 2][&quot;weight&quot;] = 4\n",
              "\n",
              "Warning: we protect the graph data structure by making `G.edges[1, 2]` a\n",
              "read-only dict-like structure. However, you can assign to attributes\n",
              "in e.g. `G.edges[1, 2]`. Thus, use 2 sets of brackets to add/change\n",
              "data attributes: `G.edges[1, 2][&#x27;weight&#x27;] = 4`\n",
              "(For multigraphs: `MG.edges[u, v, key][name] = value`).\n",
              "\n",
              "**Shortcuts:**\n",
              "\n",
              "Many common graph features allow python syntax to speed reporting.\n",
              "\n",
              "&gt;&gt;&gt; 1 in G  # check if node in graph\n",
              "True\n",
              "&gt;&gt;&gt; [n for n in G if n &lt; 3]  # iterate through nodes\n",
              "[1, 2]\n",
              "&gt;&gt;&gt; len(G)  # number of nodes in graph\n",
              "5\n",
              "\n",
              "Often the best way to traverse all edges of a graph is via the neighbors.\n",
              "The neighbors are reported as an adjacency-dict `G.adj` or `G.adjacency()`\n",
              "\n",
              "&gt;&gt;&gt; for n, nbrsdict in G.adjacency():\n",
              "...     for nbr, eattr in nbrsdict.items():\n",
              "...         if &quot;weight&quot; in eattr:\n",
              "...             # Do something useful with the edges\n",
              "...             pass\n",
              "\n",
              "But the edges reporting object is often more convenient:\n",
              "\n",
              "&gt;&gt;&gt; for u, v, weight in G.edges(data=&quot;weight&quot;):\n",
              "...     if weight is not None:\n",
              "...         # Do something useful with the edges\n",
              "...         pass\n",
              "\n",
              "**Reporting:**\n",
              "\n",
              "Simple graph information is obtained using object-attributes and methods.\n",
              "Reporting usually provides views instead of containers to reduce memory\n",
              "usage. The views update as the graph is updated similarly to dict-views.\n",
              "The objects `nodes`, `edges` and `adj` provide access to data attributes\n",
              "via lookup (e.g. `nodes[n]`, `edges[u, v]`, `adj[u][v]`) and iteration\n",
              "(e.g. `nodes.items()`, `nodes.data(&#x27;color&#x27;)`,\n",
              "`nodes.data(&#x27;color&#x27;, default=&#x27;blue&#x27;)` and similarly for `edges`)\n",
              "Views exist for `nodes`, `edges`, `neighbors()`/`adj` and `degree`.\n",
              "\n",
              "For details on these and other miscellaneous methods, see below.\n",
              "\n",
              "**Subclasses (Advanced):**\n",
              "\n",
              "The Graph class uses a dict-of-dict-of-dict data structure.\n",
              "The outer dict (node_dict) holds adjacency information keyed by node.\n",
              "The next dict (adjlist_dict) represents the adjacency information and holds\n",
              "edge data keyed by neighbor.  The inner dict (edge_attr_dict) represents\n",
              "the edge data and holds edge attribute values keyed by attribute names.\n",
              "\n",
              "Each of these three dicts can be replaced in a subclass by a user defined\n",
              "dict-like object. In general, the dict-like features should be\n",
              "maintained but extra features can be added. To replace one of the\n",
              "dicts create a new graph class by changing the class(!) variable\n",
              "holding the factory for that dict-like structure. The variable names are\n",
              "node_dict_factory, node_attr_dict_factory, adjlist_inner_dict_factory,\n",
              "adjlist_outer_dict_factory, edge_attr_dict_factory and graph_attr_dict_factory.\n",
              "\n",
              "node_dict_factory : function, (default: dict)\n",
              "    Factory function to be used to create the dict containing node\n",
              "    attributes, keyed by node id.\n",
              "    It should require no arguments and return a dict-like object\n",
              "\n",
              "node_attr_dict_factory: function, (default: dict)\n",
              "    Factory function to be used to create the node attribute\n",
              "    dict which holds attribute values keyed by attribute name.\n",
              "    It should require no arguments and return a dict-like object\n",
              "\n",
              "adjlist_outer_dict_factory : function, (default: dict)\n",
              "    Factory function to be used to create the outer-most dict\n",
              "    in the data structure that holds adjacency info keyed by node.\n",
              "    It should require no arguments and return a dict-like object.\n",
              "\n",
              "adjlist_inner_dict_factory : function, optional (default: dict)\n",
              "    Factory function to be used to create the adjacency list\n",
              "    dict which holds edge data keyed by neighbor.\n",
              "    It should require no arguments and return a dict-like object\n",
              "\n",
              "edge_attr_dict_factory : function, optional (default: dict)\n",
              "    Factory function to be used to create the edge attribute\n",
              "    dict which holds attribute values keyed by attribute name.\n",
              "    It should require no arguments and return a dict-like object.\n",
              "\n",
              "graph_attr_dict_factory : function, (default: dict)\n",
              "    Factory function to be used to create the graph attribute\n",
              "    dict which holds attribute values keyed by attribute name.\n",
              "    It should require no arguments and return a dict-like object.\n",
              "\n",
              "Typically, if your extension doesn&#x27;t impact the data structure all\n",
              "methods will inherited without issue except: `to_directed/to_undirected`.\n",
              "By default these methods create a DiGraph/Graph class and you probably\n",
              "want them to create your extension of a DiGraph/Graph. To facilitate\n",
              "this we define two class variables that you can set in your subclass.\n",
              "\n",
              "to_directed_class : callable, (default: DiGraph or MultiDiGraph)\n",
              "    Class to create a new graph structure in the `to_directed` method.\n",
              "    If `None`, a NetworkX class (DiGraph or MultiDiGraph) is used.\n",
              "\n",
              "to_undirected_class : callable, (default: Graph or MultiGraph)\n",
              "    Class to create a new graph structure in the `to_undirected` method.\n",
              "    If `None`, a NetworkX class (Graph or MultiGraph) is used.\n",
              "\n",
              "**Subclassing Example**\n",
              "\n",
              "Create a low memory graph class that effectively disallows edge\n",
              "attributes by using a single attribute dict for all edges.\n",
              "This reduces the memory used, but you lose edge attributes.\n",
              "\n",
              "&gt;&gt;&gt; class ThinGraph(nx.Graph):\n",
              "...     all_edge_dict = {&quot;weight&quot;: 1}\n",
              "...\n",
              "...     def single_edge_dict(self):\n",
              "...         return self.all_edge_dict\n",
              "...\n",
              "...     edge_attr_dict_factory = single_edge_dict\n",
              "&gt;&gt;&gt; G = ThinGraph()\n",
              "&gt;&gt;&gt; G.add_edge(2, 1)\n",
              "&gt;&gt;&gt; G[2][1]\n",
              "{&#x27;weight&#x27;: 1}\n",
              "&gt;&gt;&gt; G.add_edge(2, 2)\n",
              "&gt;&gt;&gt; G[2][1] is G[2][2]\n",
              "True</pre>\n",
              "      <script>\n",
              "      if (google.colab.kernel.accessAllowed && google.colab.files && google.colab.files.view) {\n",
              "        for (const element of document.querySelectorAll('.filepath')) {\n",
              "          element.style.display = 'block'\n",
              "          element.onclick = (event) => {\n",
              "            event.preventDefault();\n",
              "            event.stopPropagation();\n",
              "            google.colab.files.view(element.textContent, 88);\n",
              "          };\n",
              "        }\n",
              "      }\n",
              "      for (const element of document.querySelectorAll('.function-repr-contents')) {\n",
              "        element.onclick = (event) => {\n",
              "          event.preventDefault();\n",
              "          event.stopPropagation();\n",
              "          element.classList.toggle('function-repr-contents-collapsed');\n",
              "        };\n",
              "      }\n",
              "      </script>\n",
              "      </div>"
            ]
          },
          "metadata": {},
          "execution_count": 30
        }
      ]
    },
    {
      "cell_type": "code",
      "source": [
        "nx.draw(G)"
      ],
      "metadata": {
        "colab": {
          "base_uri": "https://localhost:8080/",
          "height": 492
        },
        "id": "GZf8jltPNCg-",
        "outputId": "9b4e1c84-ef17-4141-e16c-52be155afa30"
      },
      "execution_count": 31,
      "outputs": [
        {
          "output_type": "display_data",
          "data": {
            "text/plain": [
              "<Figure size 640x480 with 1 Axes>"
            ],
            "image/png": "[encoded data removed]"
          },
          "metadata": {}
        }
      ]
    },
    {
      "cell_type": "code",
      "source": [
        "keys=data.keys\n",
        "print(keys)"
      ],
      "metadata": {
        "colab": {
          "base_uri": "https://localhost:8080/"
        },
        "id": "rFYnW6v0ND7P",
        "outputId": "b355215f-293c-4c37-e0e6-9b856f171ce2"
      },
      "execution_count": 32,
      "outputs": [
        {
          "output_type": "stream",
          "name": "stdout",
          "text": [
            "<bound method BaseData.keys of Data(x=[3, 1], edge_index=[2, 4])>\n"
          ]
        }
      ]
    },
    {
      "cell_type": "code",
      "source": [
        "for key,item in data:\n",
        "  print(f'{key} found on data')"
      ],
      "metadata": {
        "colab": {
          "base_uri": "https://localhost:8080/"
        },
        "id": "kdNQ3BJkNHA3",
        "outputId": "bd177b70-6772-409a-b415-2ca04c84ed04"
      },
      "execution_count": 34,
      "outputs": [
        {
          "output_type": "stream",
          "name": "stdout",
          "text": [
            "x found on data\n",
            "edge_index found on data\n"
          ]
        }
      ]
    },
    {
      "cell_type": "code",
      "source": [
        "'edge_attr' in data"
      ],
      "metadata": {
        "colab": {
          "base_uri": "https://localhost:8080/"
        },
        "id": "VlJwjVph0kWD",
        "outputId": "4cf8e5f4-e9de-4fdf-e51c-801559691431"
      },
      "execution_count": 36,
      "outputs": [
        {
          "output_type": "execute_result",
          "data": {
            "text/plain": [
              "False"
            ]
          },
          "metadata": {},
          "execution_count": 36
        }
      ]
    },
    {
      "cell_type": "code",
      "source": [
        "data.num_nodes"
      ],
      "metadata": {
        "colab": {
          "base_uri": "https://localhost:8080/"
        },
        "id": "dVrqnHef0sdK",
        "outputId": "c173ff9b-5f5e-4292-99a4-f0e8ff511ef6"
      },
      "execution_count": 37,
      "outputs": [
        {
          "output_type": "execute_result",
          "data": {
            "text/plain": [
              "3"
            ]
          },
          "metadata": {},
          "execution_count": 37
        }
      ]
    },
    {
      "cell_type": "code",
      "source": [
        "data.num_edges"
      ],
      "metadata": {
        "colab": {
          "base_uri": "https://localhost:8080/"
        },
        "id": "ADd6bHSD1L0u",
        "outputId": "aac15b3d-1252-4b84-cac7-04100317ecfa"
      },
      "execution_count": 39,
      "outputs": [
        {
          "output_type": "execute_result",
          "data": {
            "text/plain": [
              "4"
            ]
          },
          "metadata": {},
          "execution_count": 39
        }
      ]
    },
    {
      "cell_type": "code",
      "source": [
        "data.num_node_features"
      ],
      "metadata": {
        "colab": {
          "base_uri": "https://localhost:8080/"
        },
        "id": "pXR97N-q1NQ-",
        "outputId": "705f448f-b0e6-40b9-90a6-f2d4061a9afa"
      },
      "execution_count": 41,
      "outputs": [
        {
          "output_type": "execute_result",
          "data": {
            "text/plain": [
              "1"
            ]
          },
          "metadata": {},
          "execution_count": 41
        }
      ]
    },
    {
      "cell_type": "code",
      "source": [
        "data.has_isolated_nodes()"
      ],
      "metadata": {
        "colab": {
          "base_uri": "https://localhost:8080/"
        },
        "id": "5n05vPhG1SqK",
        "outputId": "10366b04-460e-4ac3-adab-841c04974944"
      },
      "execution_count": 42,
      "outputs": [
        {
          "output_type": "execute_result",
          "data": {
            "text/plain": [
              "False"
            ]
          },
          "metadata": {},
          "execution_count": 42
        }
      ]
    },
    {
      "cell_type": "code",
      "source": [
        "data.has_self_loops()"
      ],
      "metadata": {
        "colab": {
          "base_uri": "https://localhost:8080/"
        },
        "id": "YM7SUWh-1aLh",
        "outputId": "14eca7c7-a97d-4bd6-f1f6-96cb8c1e192d"
      },
      "execution_count": 43,
      "outputs": [
        {
          "output_type": "execute_result",
          "data": {
            "text/plain": [
              "False"
            ]
          },
          "metadata": {},
          "execution_count": 43
        }
      ]
    },
    {
      "cell_type": "code",
      "source": [
        "data.is_directed()"
      ],
      "metadata": {
        "colab": {
          "base_uri": "https://localhost:8080/"
        },
        "id": "yYryLrAr1dh8",
        "outputId": "a1067b68-8aa5-4284-e911-cadd8b9efbed"
      },
      "execution_count": 45,
      "outputs": [
        {
          "output_type": "execute_result",
          "data": {
            "text/plain": [
              "False"
            ]
          },
          "metadata": {},
          "execution_count": 45
        }
      ]
    },
    {
      "cell_type": "code",
      "source": [
        " nx.write_graphml(G,'demo_data.graphml')"
      ],
      "metadata": {
        "id": "LaD-znHS1fmY"
      },
      "execution_count": 46,
      "outputs": []
    },
    {
      "cell_type": "code",
      "source": [
        "for line in nx.generate_graphml(G):\n",
        "  print(line)"
      ],
      "metadata": {
        "colab": {
          "base_uri": "https://localhost:8080/"
        },
        "id": "0Mx0T18b18xr",
        "outputId": "098a7115-de9c-4ce4-d982-939f622cec76"
      },
      "execution_count": 47,
      "outputs": [
        {
          "output_type": "stream",
          "name": "stdout",
          "text": [
            "<graphml xmlns=\"http://graphml.graphdrawing.org/xmlns\" xmlns:xsi=\"http://www.w3.org/2001/XMLSchema-instance\" xsi:schemaLocation=\"http://graphml.graphdrawing.org/xmlns http://graphml.graphdrawing.org/xmlns/1.0/graphml.xsd\">\n",
            "  <graph edgedefault=\"directed\">\n",
            "    <node id=\"0\" />\n",
            "    <node id=\"1\" />\n",
            "    <node id=\"2\" />\n",
            "    <edge source=\"0\" target=\"1\" />\n",
            "    <edge source=\"1\" target=\"0\" />\n",
            "    <edge source=\"1\" target=\"2\" />\n",
            "    <edge source=\"2\" target=\"1\" />\n",
            "  </graph>\n",
            "</graphml>\n"
          ]
        }
      ]
    },
    {
      "cell_type": "code",
      "source": [],
      "metadata": {
        "id": "rp82pEMm2JNe"
      },
      "execution_count": null,
      "outputs": []
    }
  ]
}